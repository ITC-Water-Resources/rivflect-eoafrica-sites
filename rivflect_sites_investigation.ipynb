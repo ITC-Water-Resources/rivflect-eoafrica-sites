{
 "cells": [
  {
   "cell_type": "markdown",
   "id": "2b2945f5-c057-4a5e-b09e-db6dbee28484",
   "metadata": {},
   "source": [
    "# Assessing site suitability for GNSS_IR deployment\n",
    "Roelof Rietbroek, Zeleke Challa, May 2023"
   ]
  }
 ],
 "metadata": {
  "kernelspec": {
   "display_name": "Python 3 (ipykernel)",
   "language": "python",
   "name": "python3"
  },
  "language_info": {
   "codemirror_mode": {
    "name": "ipython",
    "version": 3
   },
   "file_extension": ".py",
   "mimetype": "text/x-python",
   "name": "python",
   "nbconvert_exporter": "python",
   "pygments_lexer": "ipython3",
   "version": "3.8.10"
  }
 },
 "nbformat": 4,
 "nbformat_minor": 5
}
