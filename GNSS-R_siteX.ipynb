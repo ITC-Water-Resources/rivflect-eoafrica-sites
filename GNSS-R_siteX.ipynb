{
 "cells": [
  {
   "cell_type": "markdown",
   "id": "9d2d44c2-7375-4f2b-93cb-9b95fed86731",
   "metadata": {},
   "source": [
    "# Site deployment design\n",
    "\n",
    "Notebook to plan and design the GNSS-R dployment at site X (File to be renamed)\n",
    "\n",
    "Zeleke Challa, Roelof Rietbroek, May 2023\n",
    "\n"
   ]
  }
 ],
 "metadata": {
  "kernelspec": {
   "display_name": "Python 3 (ipykernel)",
   "language": "python",
   "name": "python3"
  },
  "language_info": {
   "codemirror_mode": {
    "name": "ipython",
    "version": 3
   },
   "file_extension": ".py",
   "mimetype": "text/x-python",
   "name": "python",
   "nbconvert_exporter": "python",
   "pygments_lexer": "ipython3",
   "version": "3.8.10"
  }
 },
 "nbformat": 4,
 "nbformat_minor": 5
}
